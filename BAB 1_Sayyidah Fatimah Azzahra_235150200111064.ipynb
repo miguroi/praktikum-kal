{
 "cells": [
  {
   "cell_type": "markdown",
   "metadata": {
    "id": "a2HNTkvuKcRF"
   },
   "source": [
    "# LAPORAN PRAKTIKUM KECERDASAN ARTIFISIAL LANJUT\n",
    "**Nama:** Sayyidah Fatimah Azzahra\n",
    "\n",
    "**NIM:** 235150200111064\n",
    "\n",
    "**Kelas:** TIF-E\n",
    "\n",
    "---\n",
    "## Bab 1 : Pengantar Python\n"
   ]
  },
  {
   "cell_type": "markdown",
   "metadata": {
    "id": "RJ6C6TKWKcRH"
   },
   "source": [
    "### Soal 1\n",
    "**Buat sebuah program untuk menentukan harga tiket tempat wisata berdasarkan umur pengunjung dan hari pembelian tiket. Berikut adalah aturan harga tiket:**\n",
    "<br></br>\n",
    "a. Harga tiket dasar adalah Rp50.000. <br>\n",
    "b. Jika umur penonton kurang dari 12 tahun atau lebih dari 60 tahun, diskon sebesar 50%. <br>\n",
    "c. Jika hari pembelian tiket adalah akhir pekan (Sabtu atau Minggu), ada tambahan biaya sebesar Rp10.000. <br>\n",
    "d. Jika penonton berusia antara 12 dan 60 tahun dan membeli tiket pada hari kerja (Senin hingga Jumat), ada diskon sebesar Rp5.000.<br>"
   ]
  },
  {
   "cell_type": "code",
   "execution_count": 4,
   "metadata": {
    "id": "DhSc0iQgKcRI"
   },
   "outputs": [
    {
     "name": "stdout",
     "output_type": "stream",
     "text": [
      "Umur: 10\n",
      "Hari: Minggu\n",
      "Harga tiket: 35000.0\n"
     ]
    }
   ],
   "source": [
    "tiketDasar = 50000\n",
    "umur = int(input(\"Umur:\"))\n",
    "hari = input(\"Hari:\")\n",
    "\n",
    "if (umur < 12 or umur > 60):\n",
    "    harga = tiketDasar - (tiketDasar * 0.5)\n",
    "else:\n",
    "    harga = tiketDasar\n",
    "\n",
    "if (hari == \"Sabtu\" or hari == \"Minggu\"):\n",
    "    harga = harga + 10000\n",
    "elif (hari == \"Senin\" or hari == \"Selasa\" or hari == \"Rabu\" or hari == \"Kamis\" or hari == \"Jumat\"):\n",
    "    harga = harga - (harga * 0.05)\n",
    "\n",
    "print(\"Umur:\", umur)\n",
    "print(\"Hari:\", hari)\n",
    "print(\"Harga tiket:\", harga)\n"
   ]
  },
  {
   "cell_type": "markdown",
   "metadata": {
    "id": "j0mWWmBgKcRJ"
   },
   "source": [
    "#### Penjelasan\n",
    "\n",
    "Pertama-tama, variabel tiketDasar diinisialisasi dengan nilai 50000, kemudian variabel umur dan hari langsung diisi oleh input user. Selanjutnya, variabel diskon dihitung dengan menggunakan rumus yang diberikan (jika umur penonton < 12 tahun atau > 60 tahun, maka harga tiket diberi diskon 50%, jika tidak, maka harga tiket tidak diberi diskon). Harga tiket setelah diskon umur juga dihitung dengan menggunakan rumus hari kerja dan hari akhir pekan yang diberikan. Setelahnya, nilai dari variabel umur, hari, dan harga tiket ditampilkan pada layar."
   ]
  },
  {
   "cell_type": "markdown",
   "metadata": {
    "id": "WfZwWMmfKcRK"
   },
   "source": [
    "### Soal 2\n",
    "\n",
    "**Coba buat tampilan seperti berikut ini dengan menggunakan looping bersarang. Diperlukan looping untuk menampilkan per baris dan looping untuk menampilkan per kolom. Kita perlu tahu banyaknya bintang tiap baris. Dapatkah Anda mengetahui pola/rumus untuk menampilkan bintang per baris?**\n",
    "\n",
    "```\n",
    "*\n",
    "**\n",
    "***\n",
    "****\n",
    "```"
   ]
  },
  {
   "cell_type": "code",
   "execution_count": 33,
   "metadata": {
    "id": "bMJbn3yFKcRK"
   },
   "outputs": [
    {
     "name": "stdout",
     "output_type": "stream",
     "text": [
      "*\n",
      "**\n",
      "***\n",
      "****\n"
     ]
    }
   ],
   "source": [
    "for i in range(1,5):\n",
    "    print('*' * i)"
   ]
  },
  {
   "cell_type": "markdown",
   "metadata": {
    "id": "Hbxx-zNQKcRK"
   },
   "source": [
    "#### Penjelasan\n",
    "\n",
    "Selama range i sampai 5, maka bintang akan ditambahkan sebanyak i kali."
   ]
  },
  {
   "cell_type": "markdown",
   "metadata": {
    "id": "ZBM1qSbbKcRK"
   },
   "source": [
    "### Soal 3\n",
    "\n",
    "**Coba buat tampilan seperti berikut ini dengan menggunakan looping bersarang. Diperlukan looping untuk menampilkan per baris dan looping untuk menampilkan per kolom. Pada program ini diperlukan untuk menampilkan spasi sebelum tanda bintang. Berapa spasi yang diperlukan untuk baris 1, baris 2, dst.? Ada pola/rumus untuk menghitung banyaknya spasi yang diperlukan.**\n",
    "\n",
    "```\n",
    "    *\n",
    "   **\n",
    "  ***\n",
    " ****\n",
    "```"
   ]
  },
  {
   "cell_type": "code",
   "execution_count": 62,
   "metadata": {
    "id": "D3KJGLgKKcRL"
   },
   "outputs": [
    {
     "name": "stdout",
     "output_type": "stream",
     "text": [
      "    *\n",
      "   * *\n",
      "  * * *\n",
      " * * * *\n"
     ]
    }
   ],
   "source": [
    "for i in range(1,5):\n",
    "    spaces = ' ' * (4 - i)\n",
    "    stars = ' *' * i\n",
    "    print(spaces + stars)"
   ]
  },
  {
   "cell_type": "markdown",
   "metadata": {
    "id": "tlq0opTxKcRL"
   },
   "source": [
    "#### Penjelasan\n",
    "\n",
    "Selama range i sampai 5, peraturan ini akan dilakukan:\n",
    "1. Spasi, \" \", akan diprint sebanyak 4 - i kali. Dia akan semakin berkurang, jadi ada tangga menurun.\n",
    "2. Bintang, \" *\", akan diprint sebanyak i kali. Dia akan semakin bertambah, jadi ada tangga naik.\n",
    "\n",
    "Nah, ketika diprint bersamaan, mereka akan membentuk tower segitiga. :D"
   ]
  },
  {
   "cell_type": "markdown",
   "metadata": {
    "id": "UMMA0Hc8KcRL"
   },
   "source": [
    "### Soal 4\n",
    "\n",
    "**Buat sebuah fungsi lambda yang menerima satu argumen dan mengembalikan nilai kuadrat dari argumen tersebut. Misalkan fungsi tersebut bernama kuadrat, maka panggilan kuadrat(5) akan menghasilkan 25.**"
   ]
  },
  {
   "cell_type": "code",
   "execution_count": 64,
   "metadata": {},
   "outputs": [
    {
     "name": "stdout",
     "output_type": "stream",
     "text": [
      "25\n"
     ]
    }
   ],
   "source": [
    "x = int(input(\"Masukkan angka:\"))\n",
    "\n",
    "kuadrat = lambda x: x**2\n",
    "\n",
    "print(kuadrat(x))"
   ]
  },
  {
   "cell_type": "markdown",
   "metadata": {},
   "source": [
    "Di sini, saya membuat fungsi lambda yang menerima satu argumen (x) dari input user, kemudian input user akan diproses dalam fungsi bernama kuadrat yang mengembalikan nilai kuadrat argumen (x**2), kemudian mencetaknya menggunakan print()."
   ]
  },
  {
   "cell_type": "markdown",
   "metadata": {},
   "source": [
    "### Soal 5\n",
    "\n",
    "**Buat sebuah fungsi lambda yang menerima dua argumen dan mengembalikan hasil penjumlahan dari kedua argumen tersebut. Misalkan fungsi tersebut bernama jumlah, maka panggilan jumlah(3,4) akan menghasilkan 7.**"
   ]
  },
  {
   "cell_type": "code",
   "execution_count": 65,
   "metadata": {
    "id": "FYa1lXStKcRL"
   },
   "outputs": [
    {
     "name": "stdout",
     "output_type": "stream",
     "text": [
      "8\n"
     ]
    }
   ],
   "source": [
    "x = int(input(\"Masukkan angka pertama: \"))\n",
    "y = int(input(\"Masukkan angka kedua: \"))\n",
    "\n",
    "jumlah = lambda x, y: x + y\n",
    "\n",
    "print(jumlah(x, y))"
   ]
  },
  {
   "cell_type": "markdown",
   "metadata": {
    "id": "H8vPTtRdKcRL"
   },
   "source": [
    "#### Penjelasan\n",
    "\n",
    "Di sini, saya membuat fungsi lambda yang menerima dua argumen (x, y) dari input user, kemudian input user akan diproses dalam fungsi bernama jumlah yang mengembalikan hasil penjumlahan (x + y), kemudian mencetaknya menggunakan print()."
   ]
  }
 ],
 "metadata": {
  "colab": {
   "provenance": []
  },
  "kernelspec": {
   "display_name": "base",
   "language": "python",
   "name": "python3"
  },
  "language_info": {
   "codemirror_mode": {
    "name": "ipython",
    "version": 3
   },
   "file_extension": ".py",
   "mimetype": "text/x-python",
   "name": "python",
   "nbconvert_exporter": "python",
   "pygments_lexer": "ipython3",
   "version": "3.12.9"
  }
 },
 "nbformat": 4,
 "nbformat_minor": 0
}
