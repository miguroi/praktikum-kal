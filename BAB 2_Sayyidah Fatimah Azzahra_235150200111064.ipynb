{
 "cells": [
  {
   "cell_type": "markdown",
   "metadata": {
    "id": "a2HNTkvuKcRF"
   },
   "source": [
    "# LAPORAN PRAKTIKUM KECERDASAN ARTIFISIAL LANJUT\n",
    "**Nama: Sayyidah Fatimah Azzahra**\n",
    "\n",
    "**NIM: 235150200111064**\n",
    "\n",
    "**Kelas: TIF-E**\n",
    "\n",
    "---\n",
    "## Bab 2 : Pengenalan Struktur Data, Comprehension, dan Perulangan\n"
   ]
  },
  {
   "cell_type": "markdown",
   "metadata": {
    "id": "RJ6C6TKWKcRH"
   },
   "source": [
    "### Soal 1\n",
    "**1. Buatlah program yang menggunakan list, tuple, set, dan dictionary untuk menyimpan data produk di\n",
    "sebuah toko online. <br>\n",
    "<br>\n",
    "a. List: Menyimpan daftar nama produk. <br>\n",
    "b. Tuple: Menyimpan informasi produk (nama, harga, stok). <br>\n",
    "c. Set: Menyimpan ID unik produk. <br>\n",
    "d. Dictionary: Menyimpan informasi produk dengan kunci sebagai nama produk.**"
   ]
  },
  {
   "cell_type": "code",
   "execution_count": 25,
   "metadata": {
    "id": "DhSc0iQgKcRI"
   },
   "outputs": [],
   "source": [
    "nama_liptint = [\"Liptint Wardah\", \"Liptint Implora\", \"Liptint Raecca\", \"Liptint Emina\", \"Liptint Barenbliss\"]\n",
    "info_liptint = [\n",
    "    (\"Liptint Wardah\", 80000, 50),\n",
    "    (\"Liptint Implora\", 120000, 30),\n",
    "    (\"Liptint Raecca\", 100000, 40),\n",
    "    (\"Liptint Emina\", 90000, 25),\n",
    "    (\"Liptint Barenbliss\", 110000, 35)\n",
    "]\n",
    "id_liptint = [\"LP1\", \"LP2\", \"LP3\", \"LP4\", \"LP5\"]\n",
    "dict_liptint = {\n",
    "    \"Liptint Wardah\": {\"Harga\": 80000, \"Stok\": 50, \"ID\": \"LP1\"},\n",
    "    \"Liptint Implora\": {\"Harga\": 120000, \"Stok\": 30, \"ID\": \"LP2\"},\n",
    "    \"Liptint Raecca\": {\"Harga\": 100000, \"Stok\": 40, \"ID\": \"LP3\"},\n",
    "    \"Liptint Emina\": {\"Harga\": 90000, \"Stok\": 25, \"ID\": \"LP4\"},\n",
    "    \"Liptint Barenbliss\": {\"Harga\": 110000, \"Stok\": 35, \"ID\": \"LP5\"}\n",
    "}"
   ]
  },
  {
   "cell_type": "markdown",
   "metadata": {
    "id": "j0mWWmBgKcRJ"
   },
   "source": [
    "#### Penjelasan\n",
    "\n",
    "jadi di sini saya bikin:\n",
    "1. list (nama_liptint): menyimpan daftar liptint secara berurutan\n",
    "2. tuple (info_liptint): menyimpan informasi liptint secara immutable\n",
    "3. set (id_liptint): menyimpan id unik untuk setiap liptint\n",
    "4. dictionary (dict_liptint): menyimpan informasi lengkap tiap liptint dengan nama produk sebagai kunci"
   ]
  },
  {
   "cell_type": "markdown",
   "metadata": {
    "id": "WfZwWMmfKcRK"
   },
   "source": [
    "### Soal 2\n",
    "\n",
    "**2. Buatlah program yang menggunakan for loop dan while loop untuk: <br>\n",
    "<br>\n",
    "a. Menampilkan semua produk dalam daftar toko online <br>\n",
    "b. Mengurangi stok produk setiap kali terjadi pembelian sampai stok habis.**"
   ]
  },
  {
   "cell_type": "code",
   "execution_count": 26,
   "metadata": {
    "id": "bMJbn3yFKcRK"
   },
   "outputs": [
    {
     "name": "stdout",
     "output_type": "stream",
     "text": [
      "Daftar produk liptint:\n",
      "\n",
      "Liptint Wardah\n",
      "Harga : 80000\n",
      "Stok : 50\n",
      "ID : LP1\n",
      "\n",
      "Liptint Implora\n",
      "Harga : 120000\n",
      "Stok : 30\n",
      "ID : LP2\n",
      "\n",
      "Liptint Raecca\n",
      "Harga : 100000\n",
      "Stok : 40\n",
      "ID : LP3\n",
      "\n",
      "Liptint Emina\n",
      "Harga : 90000\n",
      "Stok : 25\n",
      "ID : LP4\n",
      "\n",
      "Liptint Barenbliss\n",
      "Harga : 110000\n",
      "Stok : 35\n",
      "ID : LP5\n",
      "\n"
     ]
    }
   ],
   "source": [
    "# a. Menampilkan semua produk dalam daftar toko online\n",
    "print(\"Daftar produk liptint:\\n\")\n",
    "\n",
    "for i in dict_liptint:\n",
    "    print(i)\n",
    "    for j in dict_liptint[i]:\n",
    "        print(j,':',dict_liptint[i][j])\n",
    "    print(\"\")"
   ]
  },
  {
   "cell_type": "code",
   "execution_count": 27,
   "metadata": {},
   "outputs": [
    {
     "name": "stdout",
     "output_type": "stream",
     "text": [
      "Kelassss! Stok Liptint Wardah saat ini: 30\n",
      "Kelassss! Stok Liptint Wardah saat ini: 25\n",
      "Stok tidak mencukupi! Stok Liptint Wardah saat ini: 25\n",
      "Kelassss! Stok Liptint Wardah saat ini: 24\n"
     ]
    }
   ],
   "source": [
    "# b. Mengurangi stok produk setiap kali terjadi pembelian sampai stok habis.\n",
    "nama_produk = input(\"Masukkan nama liptint yang ingin dibeli (contoh: Liptint Wardah):\")\n",
    "\n",
    "if nama_produk in dict_liptint:\n",
    "    jumlah_beli = int(input(f\"Masukkan jumlah liptint {nama_produk} yg ingin dibeli: \"))\n",
    "    \n",
    "    while dict_liptint[nama_produk][\"Stok\"] > 0 and jumlah_beli > 0:\n",
    "        if jumlah_beli <= dict_liptint[nama_produk][\"Stok\"]:\n",
    "            dict_liptint[nama_produk][\"Stok\"] -= jumlah_beli\n",
    "            print(f\"Kelassss! Stok {nama_produk} saat ini: {dict_liptint[nama_produk]['Stok']}\")\n",
    "            \n",
    "            if dict_liptint[nama_produk][\"Stok\"] > 0:\n",
    "                lanjut = input(\"Gas beli lagi (ya/tidak): \")\n",
    "                if lanjut.lower() != \"ya\":\n",
    "                    break\n",
    "                jumlah_beli = int(input(f\"Masukin {nama_produk} yang ingin dibeli: \"))\n",
    "            else:\n",
    "                print(f\"Maaf bung, stok {nama_produk} udah abis!\")\n",
    "                break\n",
    "        else:\n",
    "            print(f\"Stok tidak mencukupi! Stok {nama_produk} saat ini: {dict_liptint[nama_produk]['Stok']}\")\n",
    "            jumlah_beli = int(input(f\"Masukkan jumlah yang lebih kecil: \"))\n",
    "else:\n",
    "    print(\"Produk tidak ditemukan!\")"
   ]
  },
  {
   "cell_type": "code",
   "execution_count": 28,
   "metadata": {},
   "outputs": [
    {
     "name": "stdout",
     "output_type": "stream",
     "text": [
      "\n",
      "Daftar produk setelah pembelian:\n",
      "Liptint Wardah - Stok: 24\n",
      "Liptint Implora - Stok: 30\n",
      "Liptint Raecca - Stok: 40\n",
      "Liptint Emina - Stok: 25\n",
      "Liptint Barenbliss - Stok: 35\n"
     ]
    }
   ],
   "source": [
    "print(\"\\nDaftar produk setelah pembelian:\")\n",
    "for nama, info in dict_liptint.items():\n",
    "    print(f\"{nama} - Stok: {info['Stok']}\")"
   ]
  },
  {
   "cell_type": "markdown",
   "metadata": {
    "id": "Hbxx-zNQKcRK"
   },
   "source": [
    "#### Penjelasan\n",
    "\n",
    "jadi di sini saya pakai dua jenis loop:\n",
    "1. for loop: buat nampilin semua informasi produk liptint yang ada di toko dengan cara iterasi dictionary (outer loop iterasi kunci dictionary, sedangkan inner loop buat iterasi properti tiap produk)\n",
    "\n",
    "2. while loop: buat implementasi sistem pembelian yang mengurangi stok produk ketika pembelian dilakukan sampai stok habis. loop berjalan selama stok masih tersedia dan pengguna ingin melanjutkan pembelian. program memeriksa ketersediaan stok, mengurangi stok saat pembelian berhasil, dan pembeliannya dimungkinkan untuk dilakukan secara berulang sampai stok habis."
   ]
  },
  {
   "cell_type": "markdown",
   "metadata": {
    "id": "ZBM1qSbbKcRK"
   },
   "source": [
    "### Soal 3\n",
    "\n",
    "**3. Buatlah list baru yang berisi nama produk dengan stok di atas nilai tertentu (misalnya, stok > 20) dari\n",
    "data di dictionary.**"
   ]
  },
  {
   "cell_type": "code",
   "execution_count": 29,
   "metadata": {
    "id": "D3KJGLgKKcRL"
   },
   "outputs": [
    {
     "name": "stdout",
     "output_type": "stream",
     "text": [
      "Produk dengan stok di atas 20:\n",
      "- Liptint Wardah (Stok: 24)\n",
      "- Liptint Implora (Stok: 30)\n",
      "- Liptint Raecca (Stok: 40)\n",
      "- Liptint Emina (Stok: 25)\n",
      "- Liptint Barenbliss (Stok: 35)\n"
     ]
    }
   ],
   "source": [
    "batas_stok = 20\n",
    "produk_stok_atas_batas = [nama for nama, info in dict_liptint.items() if info[\"Stok\"] > batas_stok]\n",
    "\n",
    "print(f\"Produk dengan stok di atas {batas_stok}:\")\n",
    "for produk in produk_stok_atas_batas:\n",
    "    print(f\"- {produk} (Stok: {dict_liptint[produk]['Stok']})\")"
   ]
  },
  {
   "cell_type": "markdown",
   "metadata": {
    "id": "tlq0opTxKcRL"
   },
   "source": [
    "#### Penjelasan\n",
    "\n",
    "di sini saya pakai list comprehension buat bikin daftar produk yang memiliki stok di atas nilai tertentu:\n",
    "1. variabel batas_stok = batas minimum stok (20)\n",
    "2. list produk_stok_atas_batas = list yang hanya berisi produk yang memenuhi kriteria (stok > 20)\n",
    "\n",
    "kemudian, programnya bakalan menampilkan tiap produk dalam list hasil beserta jumlah stoknya dan informasi tiap produknya"
   ]
  },
  {
   "cell_type": "markdown",
   "metadata": {
    "id": "UMMA0Hc8KcRL"
   },
   "source": [
    "### Soal 4\n",
    "\n",
    "**4. Gunakan slicing pada list nama produk untuk menampilkan sebagian daftar produk, misalnya 3 produk\n",
    "pertama.**"
   ]
  },
  {
   "cell_type": "code",
   "execution_count": 30,
   "metadata": {
    "id": "FYa1lXStKcRL"
   },
   "outputs": [
    {
     "name": "stdout",
     "output_type": "stream",
     "text": [
      "Gak sebanyak itu bang liptint sy\n"
     ]
    }
   ],
   "source": [
    "jumlah_produk = int(input(\"Masukkan jumlah produk yang ingin ditampilkan: \"))\n",
    "\n",
    "produk = nama_liptint[:jumlah_produk]\n",
    "\n",
    "for i in range(jumlah_produk):\n",
    "    if jumlah_produk > len(nama_liptint):\n",
    "        print(\"Gak sebanyak itu bang liptint sy\")\n",
    "        break\n",
    "    print(f\"{jumlah_produk} produk pertama dalam daftar:\")\n",
    "    print(f\"Produk {i+1}: {produk[i]}\")"
   ]
  },
  {
   "cell_type": "markdown",
   "metadata": {
    "id": "H8vPTtRdKcRL"
   },
   "source": [
    "#### Penjelasan\n",
    "\n",
    "terakhir, saya menggunakan slicing list (teknik buat ambils ebagain elemen dari struktur data) buat nampilin sebagian dari daftar produk:\n",
    "1. program meminta input\n",
    "2. slicing elemen dari list sesuai dengan jumlah yang diinput\n",
    "3. program memeriksa apakah jumlah yang diinput lebih besar dari jumlah elemen dalam list\n",
    "4. kalau jumlah valid, program akan menampilkan daftar produk yang sesuai dengan jumlah yang diinput"
   ]
  }
 ],
 "metadata": {
  "colab": {
   "provenance": []
  },
  "kernelspec": {
   "display_name": "base",
   "language": "python",
   "name": "python3"
  },
  "language_info": {
   "codemirror_mode": {
    "name": "ipython",
    "version": 3
   },
   "file_extension": ".py",
   "mimetype": "text/x-python",
   "name": "python",
   "nbconvert_exporter": "python",
   "pygments_lexer": "ipython3",
   "version": "3.12.9"
  }
 },
 "nbformat": 4,
 "nbformat_minor": 0
}
